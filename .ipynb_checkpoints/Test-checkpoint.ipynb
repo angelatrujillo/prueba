{
 "cells": [
  {
   "cell_type": "markdown",
   "id": "a96c5876-d771-449e-8c3c-e38d38e5f72c",
   "metadata": {},
   "source": [
    "# Primer código\n"
   ]
  },
  {
   "cell_type": "code",
   "execution_count": 3,
   "id": "3794414e-67f6-4ff8-89b5-2b33233dd480",
   "metadata": {},
   "outputs": [],
   "source": [
    "x=10\n",
    "y=20\n",
    "z=x+y"
   ]
  },
  {
   "cell_type": "code",
   "execution_count": 4,
   "id": "b3de7894-22c5-494b-98cf-92e2c40f0cf1",
   "metadata": {},
   "outputs": [
    {
     "data": {
      "text/plain": [
       "30"
      ]
     },
     "execution_count": 4,
     "metadata": {},
     "output_type": "execute_result"
    }
   ],
   "source": [
    "z"
   ]
  },
  {
   "cell_type": "code",
   "execution_count": null,
   "id": "1f1caf08-7410-43b2-85b6-b1095c7ec047",
   "metadata": {},
   "outputs": [],
   "source": []
  }
 ],
 "metadata": {
  "kernelspec": {
   "display_name": "Python 3 (ipykernel)",
   "language": "python",
   "name": "python3"
  },
  "language_info": {
   "codemirror_mode": {
    "name": "ipython",
    "version": 3
   },
   "file_extension": ".py",
   "mimetype": "text/x-python",
   "name": "python",
   "nbconvert_exporter": "python",
   "pygments_lexer": "ipython3",
   "version": "3.11.7"
  }
 },
 "nbformat": 4,
 "nbformat_minor": 5
}
