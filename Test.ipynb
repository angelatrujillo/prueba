{
 "cells": [
  {
   "cell_type": "markdown",
   "id": "a96c5876-d771-449e-8c3c-e38d38e5f72c",
   "metadata": {},
   "source": [
    "# Primer código\n"
   ]
  },
  {
   "cell_type": "code",
   "execution_count": 5,
   "id": "3794414e-67f6-4ff8-89b5-2b33233dd480",
   "metadata": {},
   "outputs": [],
   "source": [
    "x=10\n",
    "y=20\n",
    "z=x+y"
   ]
  },
  {
   "cell_type": "code",
   "execution_count": 6,
   "id": "b3de7894-22c5-494b-98cf-92e2c40f0cf1",
   "metadata": {},
   "outputs": [
    {
     "data": {
      "text/plain": [
       "30"
      ]
     },
     "execution_count": 6,
     "metadata": {},
     "output_type": "execute_result"
    }
   ],
   "source": [
    "z"
   ]
  },
  {
   "cell_type": "markdown",
   "id": "eadec80c-68cf-4d04-8d17-599632d22ed7",
   "metadata": {},
   "source": [
    "Este es un mensaje"
   ]
  },
  {
   "cell_type": "code",
   "execution_count": 7,
   "id": "5550aa37-734e-4010-96c3-6a72b3927b91",
   "metadata": {},
   "outputs": [
    {
     "data": {
      "text/plain": [
       "15.0"
      ]
     },
     "execution_count": 7,
     "metadata": {},
     "output_type": "execute_result"
    }
   ],
   "source": [
    "z/2"
   ]
  },
  {
   "cell_type": "code",
   "execution_count": null,
   "id": "fd1de46f-ea67-4182-96eb-34dd71a3e5c1",
   "metadata": {},
   "outputs": [],
   "source": []
  }
 ],
 "metadata": {
  "kernelspec": {
   "display_name": "Python 3 (ipykernel)",
   "language": "python",
   "name": "python3"
  },
  "language_info": {
   "codemirror_mode": {
    "name": "ipython",
    "version": 3
   },
   "file_extension": ".py",
   "mimetype": "text/x-python",
   "name": "python",
   "nbconvert_exporter": "python",
   "pygments_lexer": "ipython3",
   "version": "3.11.7"
  }
 },
 "nbformat": 4,
 "nbformat_minor": 5
}
